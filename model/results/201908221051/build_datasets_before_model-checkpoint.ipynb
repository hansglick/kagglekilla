{
 "cells": [
  {
   "cell_type": "code",
   "execution_count": 1,
   "metadata": {},
   "outputs": [],
   "source": [
    "import pandas as pd\n",
    "import numpy as np\n",
    "import sys\n",
    "from sklearn import *\n",
    "sys.path.append(\"../fun\")\n",
    "from fun import *\n",
    "%load_ext autoreload\n",
    "%autoreload 2"
   ]
  },
  {
   "cell_type": "markdown",
   "metadata": {},
   "source": [
    "### Import"
   ]
  },
  {
   "cell_type": "code",
   "execution_count": 2,
   "metadata": {},
   "outputs": [],
   "source": [
    "test = pd.read_pickle(\"../data/test.pkl\")\n",
    "train = pd.read_pickle(\"../data/train.pkl\")"
   ]
  },
  {
   "cell_type": "markdown",
   "metadata": {},
   "source": [
    "### Parameters"
   ]
  },
  {
   "cell_type": "code",
   "execution_count": 3,
   "metadata": {},
   "outputs": [],
   "source": [
    "build_train_test_for_model_parameters = {\n",
    "\"oheencoding\" : [\"day\"],\n",
    "\"labelencoding\" : [\"day\",\"month\"],\n",
    "\"ordinalencoding\" : [\"hour\",\"weather\"],\n",
    "\"exclusion\" : [\"year\",\"day\",\"hour\",\"month\"],\n",
    "\"target\" : {\"name\" : \"count\", \"subs\" :  [\"registered\",\"casual\"]},\n",
    "\"strata\" : [\"workingday\"],\n",
    "\"id\" : \"datetime\"}"
   ]
  },
  {
   "cell_type": "markdown",
   "metadata": {},
   "source": [
    "### Concaténation des deux datasets"
   ]
  },
  {
   "cell_type": "code",
   "execution_count": 4,
   "metadata": {},
   "outputs": [],
   "source": [
    "targets = extract_target_features(build_train_test_for_model_parameters)\n",
    "strates = extract_strates(build_train_test_for_model_parameters)\n",
    "train[\"dataset\"] = \"train\"\n",
    "test[\"dataset\"] = \"test\"\n",
    "train = train[[item for item in list(train) if item not in targets]]\n",
    "df = pd.concat((train,test),axis = 0,sort=False)"
   ]
  },
  {
   "cell_type": "markdown",
   "metadata": {},
   "source": [
    "### Build train and test sets for modelisation"
   ]
  },
  {
   "cell_type": "code",
   "execution_count": 5,
   "metadata": {},
   "outputs": [],
   "source": [
    "df = encode_and_exclude(df,build_train_test_for_model_parameters)"
   ]
  },
  {
   "cell_type": "markdown",
   "metadata": {},
   "source": [
    "### Construction des differents ds"
   ]
  },
  {
   "cell_type": "code",
   "execution_count": null,
   "metadata": {},
   "outputs": [],
   "source": []
  },
  {
   "cell_type": "code",
   "execution_count": 86,
   "metadata": {},
   "outputs": [],
   "source": []
  },
  {
   "cell_type": "code",
   "execution_count": 7,
   "metadata": {},
   "outputs": [
    {
     "name": "stdout",
     "output_type": "stream",
     "text": [
      "global count\n",
      "global registered\n",
      "global casual\n",
      "workingday count\n",
      "workingday registered\n",
      "workingday casual\n"
     ]
    }
   ],
   "source": [
    "for ids,s in enumerate(strates):\n",
    "    for idt,t in enumerate(targets):\n",
    "        if ids == 0:\n",
    "            "
   ]
  },
  {
   "cell_type": "code",
   "execution_count": 8,
   "metadata": {},
   "outputs": [],
   "source": [
    "df.sort_values(by=[build_train_test_for_model_parameters[\"id\"]],inplace = True)\n",
    "train = pd.read_pickle(\"../data/train.pkl\")\n",
    "train.sort_values(by=[build_train_test_for_model_parameters[\"id\"]],inplace = True)\n",
    "targetdf = train[extract_target_features(build_train_test_for_model_parameters)]"
   ]
  },
  {
   "cell_type": "code",
   "execution_count": 13,
   "metadata": {},
   "outputs": [
    {
     "data": {
      "text/plain": [
       "['datetime',\n",
       " 'season',\n",
       " 'holiday',\n",
       " 'workingday',\n",
       " 'weather',\n",
       " 'temp',\n",
       " 'atemp',\n",
       " 'humidity',\n",
       " 'windspeed',\n",
       " 'dataset',\n",
       " 'OHE_day_0',\n",
       " 'OHE_day_1',\n",
       " 'OHE_day_2',\n",
       " 'OHE_day_3',\n",
       " 'OHE_day_4',\n",
       " 'OHE_day_5',\n",
       " 'OHE_day_6',\n",
       " 'LE_day',\n",
       " 'LE_month',\n",
       " 'ORE_hour',\n",
       " 'ORE_weather']"
      ]
     },
     "execution_count": 13,
     "metadata": {},
     "output_type": "execute_result"
    }
   ],
   "source": [
    "list(df)"
   ]
  },
  {
   "cell_type": "code",
   "execution_count": 36,
   "metadata": {},
   "outputs": [],
   "source": [
    "sol = build_official_train_and_test(df,build_train_test_for_model_parameters,\"global\")"
   ]
  },
  {
   "cell_type": "code",
   "execution_count": 37,
   "metadata": {},
   "outputs": [
    {
     "data": {
      "text/plain": [
       "dict_keys(['global'])"
      ]
     },
     "execution_count": 37,
     "metadata": {},
     "output_type": "execute_result"
    }
   ],
   "source": [
    "sol.keys()"
   ]
  },
  {
   "cell_type": "code",
   "execution_count": null,
   "metadata": {},
   "outputs": [],
   "source": []
  }
 ],
 "metadata": {
  "kernelspec": {
   "display_name": "data",
   "language": "python",
   "name": "data"
  },
  "language_info": {
   "codemirror_mode": {
    "name": "ipython",
    "version": 3
   },
   "file_extension": ".py",
   "mimetype": "text/x-python",
   "name": "python",
   "nbconvert_exporter": "python",
   "pygments_lexer": "ipython3",
   "version": "3.6.8"
  }
 },
 "nbformat": 4,
 "nbformat_minor": 2
}
