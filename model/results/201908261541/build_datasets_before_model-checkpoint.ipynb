{
 "cells": [
  {
   "cell_type": "code",
   "execution_count": 66,
   "metadata": {},
   "outputs": [
    {
     "name": "stdout",
     "output_type": "stream",
     "text": [
      "The autoreload extension is already loaded. To reload it, use:\n",
      "  %reload_ext autoreload\n"
     ]
    }
   ],
   "source": [
    "import dill as pickle\n",
    "import pandas as pd\n",
    "import numpy as np\n",
    "import sys\n",
    "from sklearn import *\n",
    "sys.path.append(\"../fun\")\n",
    "from fun import *\n",
    "%load_ext autoreload\n",
    "%autoreload 2"
   ]
  },
  {
   "cell_type": "markdown",
   "metadata": {},
   "source": [
    "### Import"
   ]
  },
  {
   "cell_type": "code",
   "execution_count": 67,
   "metadata": {},
   "outputs": [],
   "source": [
    "test = pd.read_pickle(\"../data/test.pkl\")\n",
    "train = pd.read_pickle(\"../data/train.pkl\")"
   ]
  },
  {
   "cell_type": "markdown",
   "metadata": {},
   "source": [
    "### Fonctions de transformations de la target"
   ]
  },
  {
   "cell_type": "code",
   "execution_count": 68,
   "metadata": {},
   "outputs": [],
   "source": [
    "def transform_target(target_array):\n",
    "    return np.log1p(target_array)\n",
    "\n",
    "def detransform_target(transformed_target_array):\n",
    "    return np.exp(transformed_target_array) - 1"
   ]
  },
  {
   "cell_type": "markdown",
   "metadata": {},
   "source": [
    "### Parameters du features engineering et création de datasets"
   ]
  },
  {
   "cell_type": "code",
   "execution_count": 69,
   "metadata": {},
   "outputs": [],
   "source": [
    "build_train_test_for_model_parameters = {\n",
    "\"oheencoding\" : [\"day\"],\n",
    "\"labelencoding\" : [\"day\",\"month\"],\n",
    "\"ordinalencoding\" : [\"hour\",\"weather\"],\n",
    "\"exclusion\" : [\"year\",\"day\",\"hour\",\"month\",\"casual\",\"registered\"],\n",
    "\"target\" : {\"name\" : \"count\", \"subs\" :  [\"registered\",\"casual\"]},\n",
    "\"id\" : \"datetime\",\n",
    "\"strata\" : [\"workingday\"],\n",
    "\"target_transformation\" : {\"transform\" : transform_target, \"reciproque\" : detransform_target }}"
   ]
  },
  {
   "cell_type": "markdown",
   "metadata": {},
   "source": [
    "### Concaténation de training et test"
   ]
  },
  {
   "cell_type": "code",
   "execution_count": 70,
   "metadata": {},
   "outputs": [],
   "source": [
    "targets = extract_target_features(build_train_test_for_model_parameters)\n",
    "train[\"dataset\"] = \"train\"\n",
    "test[\"dataset\"] = \"test\"\n",
    "train = train[[item for item in list(train) if item not in targets]]\n",
    "df = pd.concat((train,test),axis = 0,sort=False)"
   ]
  },
  {
   "cell_type": "markdown",
   "metadata": {},
   "source": [
    "### Encoding des features selon les parametres"
   ]
  },
  {
   "cell_type": "code",
   "execution_count": 71,
   "metadata": {},
   "outputs": [],
   "source": [
    "df = encode_and_exclude(df,build_train_test_for_model_parameters)"
   ]
  },
  {
   "cell_type": "markdown",
   "metadata": {},
   "source": [
    "### Création des datasets selon les parametres"
   ]
  },
  {
   "cell_type": "code",
   "execution_count": 72,
   "metadata": {},
   "outputs": [],
   "source": [
    "all_datasets_for_modeling = build_all_datasets(build_train_test_for_model_parameters,df)"
   ]
  },
  {
   "cell_type": "markdown",
   "metadata": {},
   "source": [
    "### Sauvegarde"
   ]
  },
  {
   "cell_type": "code",
   "execution_count": 73,
   "metadata": {},
   "outputs": [],
   "source": [
    "filename = 'all_datasets_for_modeling.pkl'\n",
    "outfile = open(filename,'wb')\n",
    "pickle.dump(all_datasets_for_modeling,outfile)\n",
    "outfile.close()"
   ]
  },
  {
   "cell_type": "code",
   "execution_count": 74,
   "metadata": {},
   "outputs": [],
   "source": [
    "filename = 'build_train_test_for_model_parameters.pkl'\n",
    "outfile = open(filename,'wb')\n",
    "pickle.dump(build_train_test_for_model_parameters,outfile)\n",
    "outfile.close()"
   ]
  },
  {
   "cell_type": "code",
   "execution_count": null,
   "metadata": {},
   "outputs": [],
   "source": []
  }
 ],
 "metadata": {
  "kernelspec": {
   "display_name": "data",
   "language": "python",
   "name": "data"
  },
  "language_info": {
   "codemirror_mode": {
    "name": "ipython",
    "version": 3
   },
   "file_extension": ".py",
   "mimetype": "text/x-python",
   "name": "python",
   "nbconvert_exporter": "python",
   "pygments_lexer": "ipython3",
   "version": "3.6.8"
  }
 },
 "nbformat": 4,
 "nbformat_minor": 2
}
