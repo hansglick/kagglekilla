{
 "cells": [
  {
   "cell_type": "code",
   "execution_count": 24,
   "metadata": {},
   "outputs": [
    {
     "name": "stdout",
     "output_type": "stream",
     "text": [
      "The autoreload extension is already loaded. To reload it, use:\n",
      "  %reload_ext autoreload\n"
     ]
    }
   ],
   "source": [
    "import dill as pickle\n",
    "import pandas as pd\n",
    "import numpy as np\n",
    "from shutil import copyfile\n",
    "import sys\n",
    "import os\n",
    "from sklearn import *\n",
    "sys.path.append(\"../fun\")\n",
    "from fun import *\n",
    "%load_ext autoreload\n",
    "%autoreload 2"
   ]
  },
  {
   "cell_type": "markdown",
   "metadata": {},
   "source": [
    "### Define settings ID"
   ]
  },
  {
   "cell_type": "code",
   "execution_count": 25,
   "metadata": {},
   "outputs": [],
   "source": [
    "settingsID = define_settings_id()"
   ]
  },
  {
   "cell_type": "markdown",
   "metadata": {},
   "source": [
    "### Load data"
   ]
  },
  {
   "cell_type": "code",
   "execution_count": 26,
   "metadata": {},
   "outputs": [],
   "source": [
    "files = [f for f in os.listdir('.') if os.path.isfile(f)]\n",
    "\n",
    "if \"all_setting_results.pkl\" in files:\n",
    "    infile = open(\"all_setting_results.pkl\",'rb')\n",
    "    all_setting_results = pickle.load(infile)\n",
    "    infile.close()\n",
    "else:\n",
    "    all_setting_results = {}"
   ]
  },
  {
   "cell_type": "code",
   "execution_count": 27,
   "metadata": {},
   "outputs": [],
   "source": [
    "infile = open(\"../features/all_datasets_for_modeling.pkl\",'rb')\n",
    "all_datasets_for_modeling = pickle.load(infile)\n",
    "infile.close()"
   ]
  },
  {
   "cell_type": "code",
   "execution_count": 28,
   "metadata": {},
   "outputs": [],
   "source": [
    "infile = open(\"../features/build_train_test_for_model_parameters.pkl\",'rb')\n",
    "build_train_test_for_model_parameters= pickle.load(infile)\n",
    "infile.close()"
   ]
  },
  {
   "cell_type": "markdown",
   "metadata": {},
   "source": [
    "#### Metric de comparaison"
   ]
  },
  {
   "cell_type": "code",
   "execution_count": 29,
   "metadata": {},
   "outputs": [],
   "source": [
    "def customscoring(y, y_pred):\n",
    "    return metrics.mean_squared_error(y,y_pred)\n",
    "myscoringfun = metrics.make_scorer(customscoring, greater_is_better=False)"
   ]
  },
  {
   "cell_type": "markdown",
   "metadata": {},
   "source": [
    "#### Tout les modèles au sens large à tester"
   ]
  },
  {
   "cell_type": "code",
   "execution_count": 30,
   "metadata": {},
   "outputs": [],
   "source": [
    "dic_of_models = {1:ensemble.RandomForestRegressor(),2:linear_model.Ridge()}\n",
    "\n",
    "param_list_model_1 = [{\"max_depth\":np.random.randint(low=1,high=5,size=5), \"random_state\":0, \"n_estimators\":199,\n",
    "                       \"implicit_scoring\" : myscoringfun,\"implicit_kfold\":6, \"implicit_njobs\":2}]\n",
    "param_list_model_2 = [{\"random_state\":1,\"alpha\":3, \"implicit_ptest\":0.45,\"implicit_rtest\":55},\n",
    "                     {\"random_state\":999,\"alpha\":0.1}]\n",
    "dic_of_hyparam = {1: param_list_model_1,\n",
    "                  2: param_list_model_2}"
   ]
  },
  {
   "cell_type": "markdown",
   "metadata": {},
   "source": [
    "#### Run all the settings"
   ]
  },
  {
   "cell_type": "code",
   "execution_count": null,
   "metadata": {},
   "outputs": [
    {
     "name": "stdout",
     "output_type": "stream",
     "text": [
      "id :  ('global', 'count')_global_1_0\n",
      "GridSearchCV ,  RandomForestRegressor ,  21  features. Best score sur données transformées :  -0.6427552588923047\n",
      "\n",
      "id :  ('global', 'count')_global_2_0\n",
      "holdout ,  Ridge ,  21  features. score :  1.078822630055252\n",
      "\n",
      "id :  ('global', 'count')_global_2_1\n",
      "holdout ,  Ridge ,  21  features. score :  1.0787814054984801\n",
      "\n",
      "id :  ('global', 'registered')_global_1_0\n",
      "GridSearchCV ,  RandomForestRegressor ,  21  features. Best score sur données transformées :  -0.6544707345076981\n",
      "\n",
      "id :  ('global', 'registered')_global_2_0\n",
      "holdout ,  Ridge ,  21  features. score :  1.095011816137343\n",
      "\n",
      "id :  ('global', 'registered')_global_2_1\n",
      "holdout ,  Ridge ,  21  features. score :  1.1018517427789558\n",
      "\n",
      "id :  ('global', 'casual')_global_1_0\n",
      "GridSearchCV ,  RandomForestRegressor ,  21  features. Best score sur données transformées :  -0.6286438390145493\n",
      "\n",
      "id :  ('global', 'casual')_global_2_0\n",
      "holdout ,  Ridge ,  21  features. score :  0.8996399450967826\n",
      "\n",
      "id :  ('global', 'casual')_global_2_1\n",
      "holdout ,  Ridge ,  21  features. score :  0.8548683846783026\n",
      "\n",
      "id :  ('workingday', 'count')_workingday_0_1_0\n",
      "GridSearchCV ,  RandomForestRegressor ,  21  features. Best score sur données transformées :  -0.5443652575476267\n",
      "\n",
      "id :  ('workingday', 'count')_workingday_0_2_0\n",
      "holdout ,  Ridge ,  21  features. score :  0.8440541969182036\n",
      "\n",
      "id :  ('workingday', 'count')_workingday_0_2_1\n",
      "holdout ,  Ridge ,  21  features. score :  0.8454174112983115\n",
      "\n",
      "id :  ('workingday', 'count')_workingday_1_1_0\n",
      "GridSearchCV ,  RandomForestRegressor ,  21  features. Best score sur données transformées :  -0.5594369221306602\n",
      "\n",
      "id :  ('workingday', 'count')_workingday_1_2_0\n",
      "holdout ,  Ridge ,  21  features. score :  1.134446594773716\n",
      "\n",
      "id :  ('workingday', 'count')_workingday_1_2_1\n",
      "holdout ,  Ridge ,  21  features. score :  1.150840208309346\n",
      "\n",
      "id :  ('workingday', 'registered')_workingday_0_1_0\n",
      "GridSearchCV ,  RandomForestRegressor ,  21  features. Best score sur données transformées :  -0.5440490249442201\n",
      "\n",
      "id :  ('workingday', 'registered')_workingday_0_2_0\n",
      "holdout ,  Ridge ,  21  features. score :  0.803279320945594\n",
      "\n",
      "id :  ('workingday', 'registered')_workingday_0_2_1\n",
      "holdout ,  Ridge ,  21  features. score :  0.8119240396806263\n",
      "\n",
      "id :  ('workingday', 'registered')_workingday_1_1_0\n",
      "GridSearchCV ,  RandomForestRegressor ,  21  features. Best score sur données transformées :  -0.5510096779514532\n",
      "\n",
      "id :  ('workingday', 'registered')_workingday_1_2_0\n",
      "holdout ,  Ridge ,  21  features. score :  1.2008538862641631\n",
      "\n",
      "id :  ('workingday', 'registered')_workingday_1_2_1\n",
      "holdout ,  Ridge ,  21  features. score :  1.2128245849220844\n",
      "\n",
      "id :  ('workingday', 'casual')_workingday_0_1_0\n",
      "GridSearchCV ,  RandomForestRegressor ,  21  features. Best score sur données transformées :  -0.5125010207034008\n",
      "\n",
      "id :  ('workingday', 'casual')_workingday_0_2_0\n",
      "holdout ,  Ridge ,  21  features. score :  0.9955699361048262\n",
      "\n",
      "id :  ('workingday', 'casual')_workingday_0_2_1\n",
      "holdout ,  Ridge ,  21  features. score :  1.0090533142479439\n",
      "\n",
      "id :  ('workingday', 'casual')_workingday_1_1_0\n"
     ]
    }
   ],
   "source": [
    "results_of_the_run_settings = run_all_settings(all_datasets_for_modeling,dic_of_models,dic_of_hyparam,build_train_test_for_model_parameters,customscoring)"
   ]
  },
  {
   "cell_type": "markdown",
   "metadata": {},
   "source": [
    "#### Stocking and Saving setting results"
   ]
  },
  {
   "cell_type": "code",
   "execution_count": null,
   "metadata": {},
   "outputs": [],
   "source": [
    "all_setting_results[settingsID] = results_of_the_run_settings\n",
    "filename = 'all_setting_results.pkl'\n",
    "outfile = open(filename,'wb')\n",
    "pickle.dump(all_setting_results,outfile)\n",
    "outfile.close()"
   ]
  },
  {
   "cell_type": "markdown",
   "metadata": {},
   "source": [
    "#### Saving all notebooks written for this settings in the results folder"
   ]
  },
  {
   "cell_type": "code",
   "execution_count": null,
   "metadata": {},
   "outputs": [],
   "source": [
    "folderpath = \"results/\"+settingsID\n",
    "if not os.path.isdir(folderpath):\n",
    "    os.mkdir(\"results/\"+settingsID)\n",
    "\n",
    "files_to_copy = listfiles_fromfolders([\".\",\"../features\",\"../fun\"])\n",
    "copyfiles_to_folder(files_to_copy,folderpath)"
   ]
  },
  {
   "cell_type": "code",
   "execution_count": null,
   "metadata": {},
   "outputs": [],
   "source": []
  }
 ],
 "metadata": {
  "kernelspec": {
   "display_name": "data",
   "language": "python",
   "name": "data"
  },
  "language_info": {
   "codemirror_mode": {
    "name": "ipython",
    "version": 3
   },
   "file_extension": ".py",
   "mimetype": "text/x-python",
   "name": "python",
   "nbconvert_exporter": "python",
   "pygments_lexer": "ipython3",
   "version": "3.6.8"
  }
 },
 "nbformat": 4,
 "nbformat_minor": 2
}
