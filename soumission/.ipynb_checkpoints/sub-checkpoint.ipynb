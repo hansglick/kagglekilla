{
 "cells": [
  {
   "cell_type": "code",
   "execution_count": 19,
   "metadata": {},
   "outputs": [
    {
     "name": "stdout",
     "output_type": "stream",
     "text": [
      "The autoreload extension is already loaded. To reload it, use:\n",
      "  %reload_ext autoreload\n"
     ]
    }
   ],
   "source": [
    "import dill as pickle\n",
    "import pandas as pd\n",
    "import subprocess\n",
    "import os\n",
    "import sys\n",
    "sys.path.append(\"../fun\")\n",
    "from fun import *\n",
    "%load_ext autoreload\n",
    "%autoreload 2"
   ]
  },
  {
   "cell_type": "markdown",
   "metadata": {},
   "source": [
    "#### Load Data"
   ]
  },
  {
   "cell_type": "code",
   "execution_count": 20,
   "metadata": {},
   "outputs": [],
   "source": [
    "infile = open(\"../model/all_setting_results.pkl\",'rb')\n",
    "all_datasets_for_modeling = pickle.load(infile)\n",
    "infile.close()"
   ]
  },
  {
   "cell_type": "markdown",
   "metadata": {},
   "source": [
    "#### Fill IDs"
   ]
  },
  {
   "cell_type": "code",
   "execution_count": 21,
   "metadata": {},
   "outputs": [],
   "source": [
    "list_tuples_id = [(\"201908222051\",\"('global', 'count')_global_1_0\"),\n",
    "                  (\"201908222051\",\"('global', 'count')_global_2_0\"),\n",
    "                  (\"201908222051\",\"('global', 'count')_global_2_1\")]\n",
    "rootpathfile = \"/home/osboxes/proj/kagglebike/soumission/\""
   ]
  },
  {
   "cell_type": "markdown",
   "metadata": {},
   "source": [
    "#### Send List of Submissions"
   ]
  },
  {
   "cell_type": "code",
   "execution_count": 22,
   "metadata": {},
   "outputs": [
    {
     "name": "stdout",
     "output_type": "stream",
     "text": [
      "kaggle competitions submit -c bike-sharing-demand -f /home/osboxes/proj/kagglebike/soumission/submission_0.csv -m 'runID:201908222051, modelID:('global', 'count')_global_1_0' \n",
      " \n",
      "kaggle competitions submit -c bike-sharing-demand -f /home/osboxes/proj/kagglebike/soumission/submission_1.csv -m 'runID:201908222051, modelID:('global', 'count')_global_2_0' \n",
      " \n",
      "kaggle competitions submit -c bike-sharing-demand -f /home/osboxes/proj/kagglebike/soumission/submission_2.csv -m 'runID:201908222051, modelID:('global', 'count')_global_2_1' \n",
      " \n"
     ]
    }
   ],
   "source": [
    "send_list_of_submissions(all_datasets_for_modeling,list_tuples_id,rootpathfile)"
   ]
  },
  {
   "cell_type": "markdown",
   "metadata": {},
   "source": [
    "# Return the scores"
   ]
  },
  {
   "cell_type": "code",
   "execution_count": null,
   "metadata": {},
   "outputs": [],
   "source": [
    "\"kaggle competitions submissions --csv --quiet bike-sharing-demand > res\""
   ]
  }
 ],
 "metadata": {
  "kernelspec": {
   "display_name": "data",
   "language": "python",
   "name": "data"
  },
  "language_info": {
   "codemirror_mode": {
    "name": "ipython",
    "version": 3
   },
   "file_extension": ".py",
   "mimetype": "text/x-python",
   "name": "python",
   "nbconvert_exporter": "python",
   "pygments_lexer": "ipython3",
   "version": "3.6.8"
  }
 },
 "nbformat": 4,
 "nbformat_minor": 2
}
