{
 "cells": [
  {
   "cell_type": "code",
   "execution_count": 32,
   "metadata": {},
   "outputs": [
    {
     "name": "stdout",
     "output_type": "stream",
     "text": [
      "The autoreload extension is already loaded. To reload it, use:\n",
      "  %reload_ext autoreload\n"
     ]
    }
   ],
   "source": [
    "import dill as pickle\n",
    "import pandas as pd\n",
    "import subprocess\n",
    "import os\n",
    "import sys\n",
    "sys.path.append(\"../fun\")\n",
    "from fun import *\n",
    "%load_ext autoreload\n",
    "%autoreload 2"
   ]
  },
  {
   "cell_type": "code",
   "execution_count": 2,
   "metadata": {},
   "outputs": [],
   "source": [
    "infile = open(\"../model/all_setting_results.pkl\",'rb')\n",
    "all_setting_results = pickle.load(infile)\n",
    "infile.close()"
   ]
  },
  {
   "cell_type": "code",
   "execution_count": 3,
   "metadata": {},
   "outputs": [],
   "source": [
    "infile = open(\"../features/all_datasets_for_modeling.pkl\",'rb')\n",
    "all_datasets_for_modeling = pickle.load(infile)\n",
    "infile.close()"
   ]
  },
  {
   "cell_type": "code",
   "execution_count": 4,
   "metadata": {},
   "outputs": [],
   "source": [
    "infile = open(\"../features/build_train_test_for_model_parameters.pkl\",'rb')\n",
    "build_train_test_for_model_parameters = pickle.load(infile)\n",
    "infile.close()"
   ]
  },
  {
   "cell_type": "code",
   "execution_count": 13,
   "metadata": {},
   "outputs": [],
   "source": []
  },
  {
   "cell_type": "code",
   "execution_count": 51,
   "metadata": {},
   "outputs": [
    {
     "data": {
      "text/plain": [
       "['count_global_1.0',\n",
       " 'count_global_2.0',\n",
       " 'count_global_2.1',\n",
       " 'registered_global_1.0',\n",
       " 'registered_global_2.0',\n",
       " 'registered_global_2.1',\n",
       " 'casual_global_1.0',\n",
       " 'casual_global_2.0',\n",
       " 'casual_global_2.1',\n",
       " 'count_workingday.0_1.0',\n",
       " 'count_workingday.0_2.0',\n",
       " 'count_workingday.0_2.1',\n",
       " 'count_workingday.1_1.0',\n",
       " 'count_workingday.1_2.0',\n",
       " 'count_workingday.1_2.1',\n",
       " 'registered_workingday.0_1.0',\n",
       " 'registered_workingday.0_2.0',\n",
       " 'registered_workingday.0_2.1',\n",
       " 'registered_workingday.1_1.0',\n",
       " 'registered_workingday.1_2.0',\n",
       " 'registered_workingday.1_2.1',\n",
       " 'casual_workingday.0_1.0',\n",
       " 'casual_workingday.0_2.0',\n",
       " 'casual_workingday.0_2.1',\n",
       " 'casual_workingday.1_1.0',\n",
       " 'casual_workingday.1_2.0',\n",
       " 'casual_workingday.1_2.1']"
      ]
     },
     "execution_count": 51,
     "metadata": {},
     "output_type": "execute_result"
    }
   ],
   "source": [
    "list(all_setting_results[\"201908230535\"].keys())"
   ]
  },
  {
   "cell_type": "code",
   "execution_count": 46,
   "metadata": {},
   "outputs": [],
   "source": [
    "g = correct_dic_results(\"201908230535\",build_train_test_for_model_parameters[\"target\"][\"subs\"])"
   ]
  },
  {
   "cell_type": "code",
   "execution_count": 48,
   "metadata": {},
   "outputs": [
    {
     "name": "stdout",
     "output_type": "stream",
     "text": [
      "1.0 global ['registered', 'casual']\n",
      "1.0 global ['count']\n",
      "1.0 workingday [('registered', '0'), ('registered', '1'), ('casual', '0'), ('casual', '1')]\n",
      "1.0 workingday [('count', '0'), ('count', '1')]\n",
      "2.0 global ['registered', 'casual']\n",
      "2.0 global ['count']\n",
      "2.0 workingday [('registered', '0'), ('registered', '1'), ('casual', '0'), ('casual', '1')]\n",
      "2.0 workingday [('count', '0'), ('count', '1')]\n",
      "2.1 global ['registered', 'casual']\n",
      "2.1 global ['count']\n",
      "2.1 workingday [('registered', '0'), ('registered', '1'), ('casual', '0'), ('casual', '1')]\n",
      "2.1 workingday [('count', '0'), ('count', '1')]\n"
     ]
    }
   ],
   "source": [
    "for k,v in g.items():\n",
    "    for j,y in v.items():\n",
    "        for m in y:\n",
    "            flatlist = flatten(m)\n",
    "            print(k,j,flatlist)"
   ]
  },
  {
   "cell_type": "code",
   "execution_count": null,
   "metadata": {},
   "outputs": [],
   "source": []
  },
  {
   "cell_type": "code",
   "execution_count": 35,
   "metadata": {},
   "outputs": [],
   "source": []
  },
  {
   "cell_type": "code",
   "execution_count": 36,
   "metadata": {},
   "outputs": [],
   "source": []
  },
  {
   "cell_type": "code",
   "execution_count": 40,
   "metadata": {},
   "outputs": [],
   "source": [
    "def flatten(nested_lst):\n",
    "    \"\"\" Return a list after transforming the inner lists\n",
    "        so that it's a 1-D list.\n",
    "\n",
    "    >>> flatten([[[],[\"a\"],\"a\"],[[\"ab\"],[],\"abc\"]])\n",
    "    ['a', 'a', 'ab', 'abc']\n",
    "    \"\"\"\n",
    "    if not isinstance(nested_lst, list):\n",
    "        return(nested_lst)\n",
    "\n",
    "    res = []\n",
    "    for l in nested_lst:\n",
    "        if not isinstance(l, list):\n",
    "            res += [l]\n",
    "        else:\n",
    "            res += flatten(l)\n",
    "\n",
    "\n",
    "    return(res)"
   ]
  },
  {
   "cell_type": "code",
   "execution_count": 34,
   "metadata": {},
   "outputs": [],
   "source": [
    "def arrange_list(maliste,subs):\n",
    "    \n",
    "    if type(maliste[0]) is tuple:\n",
    "        istuple = True\n",
    "    else:\n",
    "        istuple = False\n",
    "        \n",
    "    \n",
    "    mybool = []\n",
    "    if istuple:\n",
    "        uniquewords = list(set([item[0] for item in maliste]))\n",
    "        for u in uniquewords:\n",
    "            idx = [idu for idu,item in enumerate(maliste) if item[0]==u]\n",
    "            mybool.append(idx)\n",
    "        L = []\n",
    "        for indices in mybool:\n",
    "            L.append([item for idi,item in enumerate(maliste) if idi in indices])\n",
    "\n",
    "        newmaliste = [item[0][0] for item in L]\n",
    "\n",
    "        newboolsubs = [idx for idx,item in enumerate(newmaliste) if item in subs]\n",
    "        newbooltarget = [idx for idx,item in enumerate(newmaliste) if item not in subs]\n",
    "        bigbool = [newboolsubs,newbooltarget]\n",
    "        final = []\n",
    "        for indices in bigbool:\n",
    "            final.append([item for idx,item in enumerate(L) if idx in indices])\n",
    "\n",
    "    else:\n",
    "        uniquewords = list(set(maliste))\n",
    "        for u in uniquewords:\n",
    "            idx = [idu for idu,item in enumerate(maliste) if item==u]\n",
    "            mybool.append(idx)\n",
    "        L = []\n",
    "        for indices in mybool:\n",
    "            L = L + [item for idi,item in enumerate(maliste) if idi in indices]\n",
    "\n",
    "        newmaliste = L\n",
    "\n",
    "        newboolsubs = [idx for idx,item in enumerate(newmaliste) if item in subs]\n",
    "        newbooltarget = [idx for idx,item in enumerate(newmaliste) if item not in subs]\n",
    "        bigbool = [newboolsubs,newbooltarget]\n",
    "        final = []\n",
    "        for indices in bigbool:\n",
    "            final.append([item for idx,item in enumerate(L) if idx in indices])\n",
    "\n",
    "    return final"
   ]
  },
  {
   "cell_type": "code",
   "execution_count": 45,
   "metadata": {},
   "outputs": [],
   "source": [
    "def correct_dic_results(runid,subs): \n",
    "    \n",
    "    d = {}\n",
    "    for k,v in all_setting_results[runid].items():\n",
    "        strate,value,idmodel = k.split(\"_\")\n",
    "\n",
    "        if idmodel in d:\n",
    "            d[idmodel].append((strate,value))\n",
    "        else:\n",
    "            d[idmodel] = [(strate,value)]\n",
    "\n",
    "    x = {}\n",
    "    for k,v in d.items():\n",
    "        z = {}\n",
    "        for t in v:\n",
    "\n",
    "            split = t[1].split(\".\")\n",
    "            if split[0] in z:\n",
    "                if len(split)==1:\n",
    "                    z[split[0]].append(t[0])\n",
    "                else:\n",
    "                    z[split[0]].append((t[0],split[1]))\n",
    "            else:\n",
    "                if len(split)==1:\n",
    "                    z[split[0]] = [t[0]]\n",
    "                else:\n",
    "                    z[split[0]] = [(t[0],split[1])]\n",
    "\n",
    "        x[k] = z\n",
    "\n",
    "\n",
    "    for idrun,v in x.items():\n",
    "        for strate in v:\n",
    "            corrected = arrange_list(v[strate],subs)\n",
    "            v[strate] = corrected\n",
    "\n",
    "    return x"
   ]
  },
  {
   "cell_type": "code",
   "execution_count": null,
   "metadata": {},
   "outputs": [],
   "source": []
  }
 ],
 "metadata": {
  "kernelspec": {
   "display_name": "data",
   "language": "python",
   "name": "data"
  },
  "language_info": {
   "codemirror_mode": {
    "name": "ipython",
    "version": 3
   },
   "file_extension": ".py",
   "mimetype": "text/x-python",
   "name": "python",
   "nbconvert_exporter": "python",
   "pygments_lexer": "ipython3",
   "version": "3.6.8"
  }
 },
 "nbformat": 4,
 "nbformat_minor": 2
}
