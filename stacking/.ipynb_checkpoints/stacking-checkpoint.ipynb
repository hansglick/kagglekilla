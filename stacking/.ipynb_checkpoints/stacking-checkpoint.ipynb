{
 "cells": [
  {
   "cell_type": "code",
   "execution_count": 32,
   "metadata": {},
   "outputs": [
    {
     "name": "stdout",
     "output_type": "stream",
     "text": [
      "The autoreload extension is already loaded. To reload it, use:\n",
      "  %reload_ext autoreload\n"
     ]
    }
   ],
   "source": [
    "import dill as pickle\n",
    "import pandas as pd\n",
    "import subprocess\n",
    "import os\n",
    "import sys\n",
    "sys.path.append(\"../fun\")\n",
    "from fun import *\n",
    "%load_ext autoreload\n",
    "%autoreload 2"
   ]
  },
  {
   "cell_type": "code",
   "execution_count": 2,
   "metadata": {},
   "outputs": [],
   "source": [
    "infile = open(\"../model/all_setting_results.pkl\",'rb')\n",
    "all_setting_results = pickle.load(infile)\n",
    "infile.close()"
   ]
  },
  {
   "cell_type": "code",
   "execution_count": 3,
   "metadata": {},
   "outputs": [],
   "source": [
    "infile = open(\"../features/all_datasets_for_modeling.pkl\",'rb')\n",
    "all_datasets_for_modeling = pickle.load(infile)\n",
    "infile.close()"
   ]
  },
  {
   "cell_type": "code",
   "execution_count": 4,
   "metadata": {},
   "outputs": [],
   "source": [
    "infile = open(\"../features/build_train_test_for_model_parameters.pkl\",'rb')\n",
    "build_train_test_for_model_parameters = pickle.load(infile)\n",
    "infile.close()"
   ]
  },
  {
   "cell_type": "markdown",
   "metadata": {},
   "source": [
    "### Tests"
   ]
  },
  {
   "cell_type": "code",
   "execution_count": 74,
   "metadata": {},
   "outputs": [],
   "source": [
    "g = correct_dic_results(\"201908230535\",build_train_test_for_model_parameters[\"target\"][\"subs\"])"
   ]
  },
  {
   "cell_type": "code",
   "execution_count": 75,
   "metadata": {},
   "outputs": [],
   "source": [
    "list_of_datasets = return_list_of_shared_datasets(g)"
   ]
  },
  {
   "cell_type": "code",
   "execution_count": 76,
   "metadata": {},
   "outputs": [
    {
     "data": {
      "text/plain": [
       "[['registered_global_1.0', 'casual_global_1.0'],\n",
       " ['registered_global_1.0', 'casual_global_1.0'],\n",
       " ['count_global_1.0'],\n",
       " ['registered_workingday.0_1.0',\n",
       "  'registered_workingday.1_1.0',\n",
       "  'casual_workingday.0_1.0',\n",
       "  'casual_workingday.1_1.0'],\n",
       " ['registered_workingday.0_1.0',\n",
       "  'registered_workingday.1_1.0',\n",
       "  'casual_workingday.0_1.0',\n",
       "  'casual_workingday.1_1.0'],\n",
       " ['registered_workingday.0_1.0',\n",
       "  'registered_workingday.1_1.0',\n",
       "  'casual_workingday.0_1.0',\n",
       "  'casual_workingday.1_1.0'],\n",
       " ['registered_workingday.0_1.0',\n",
       "  'registered_workingday.1_1.0',\n",
       "  'casual_workingday.0_1.0',\n",
       "  'casual_workingday.1_1.0'],\n",
       " ['count_workingday.0_1.0', 'count_workingday.1_1.0'],\n",
       " ['count_workingday.0_1.0', 'count_workingday.1_1.0'],\n",
       " ['registered_global_2.0', 'casual_global_2.0'],\n",
       " ['registered_global_2.0', 'casual_global_2.0'],\n",
       " ['count_global_2.0'],\n",
       " ['registered_workingday.0_2.0',\n",
       "  'registered_workingday.1_2.0',\n",
       "  'casual_workingday.0_2.0',\n",
       "  'casual_workingday.1_2.0'],\n",
       " ['registered_workingday.0_2.0',\n",
       "  'registered_workingday.1_2.0',\n",
       "  'casual_workingday.0_2.0',\n",
       "  'casual_workingday.1_2.0'],\n",
       " ['registered_workingday.0_2.0',\n",
       "  'registered_workingday.1_2.0',\n",
       "  'casual_workingday.0_2.0',\n",
       "  'casual_workingday.1_2.0'],\n",
       " ['registered_workingday.0_2.0',\n",
       "  'registered_workingday.1_2.0',\n",
       "  'casual_workingday.0_2.0',\n",
       "  'casual_workingday.1_2.0'],\n",
       " ['count_workingday.0_2.0', 'count_workingday.1_2.0'],\n",
       " ['count_workingday.0_2.0', 'count_workingday.1_2.0'],\n",
       " ['registered_global_2.1', 'casual_global_2.1'],\n",
       " ['registered_global_2.1', 'casual_global_2.1'],\n",
       " ['count_global_2.1'],\n",
       " ['registered_workingday.0_2.1',\n",
       "  'registered_workingday.1_2.1',\n",
       "  'casual_workingday.0_2.1',\n",
       "  'casual_workingday.1_2.1'],\n",
       " ['registered_workingday.0_2.1',\n",
       "  'registered_workingday.1_2.1',\n",
       "  'casual_workingday.0_2.1',\n",
       "  'casual_workingday.1_2.1'],\n",
       " ['registered_workingday.0_2.1',\n",
       "  'registered_workingday.1_2.1',\n",
       "  'casual_workingday.0_2.1',\n",
       "  'casual_workingday.1_2.1'],\n",
       " ['registered_workingday.0_2.1',\n",
       "  'registered_workingday.1_2.1',\n",
       "  'casual_workingday.0_2.1',\n",
       "  'casual_workingday.1_2.1'],\n",
       " ['count_workingday.0_2.1', 'count_workingday.1_2.1'],\n",
       " ['count_workingday.0_2.1', 'count_workingday.1_2.1']]"
      ]
     },
     "execution_count": 76,
     "metadata": {},
     "output_type": "execute_result"
    }
   ],
   "source": [
    "list_of_datasets"
   ]
  },
  {
   "cell_type": "code",
   "execution_count": null,
   "metadata": {},
   "outputs": [],
   "source": []
  }
 ],
 "metadata": {
  "kernelspec": {
   "display_name": "data",
   "language": "python",
   "name": "data"
  },
  "language_info": {
   "codemirror_mode": {
    "name": "ipython",
    "version": 3
   },
   "file_extension": ".py",
   "mimetype": "text/x-python",
   "name": "python",
   "nbconvert_exporter": "python",
   "pygments_lexer": "ipython3",
   "version": "3.6.8"
  }
 },
 "nbformat": 4,
 "nbformat_minor": 2
}
