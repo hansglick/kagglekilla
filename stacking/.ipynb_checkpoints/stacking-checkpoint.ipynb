{
 "cells": [
  {
   "cell_type": "code",
   "execution_count": 1,
   "metadata": {},
   "outputs": [],
   "source": [
    "import dill as pickle\n",
    "import pandas as pd\n",
    "import subprocess\n",
    "import os\n",
    "import sys\n",
    "sys.path.append(\"../fun\")\n",
    "from fun import *\n",
    "%load_ext autoreload\n",
    "%autoreload 2"
   ]
  },
  {
   "cell_type": "code",
   "execution_count": 2,
   "metadata": {},
   "outputs": [],
   "source": [
    "infile = open(\"../model/all_setting_results.pkl\",'rb')\n",
    "all_datasets_for_modeling = pickle.load(infile)\n",
    "infile.close()"
   ]
  },
  {
   "cell_type": "code",
   "execution_count": 5,
   "metadata": {},
   "outputs": [
    {
     "name": "stdout",
     "output_type": "stream",
     "text": [
      "('global', 'count')_global_1_0\n",
      "('global', 'count')_global_2_0\n",
      "('global', 'count')_global_2_1\n",
      "('global', 'registered')_global_1_0\n",
      "('global', 'registered')_global_2_0\n",
      "('global', 'registered')_global_2_1\n",
      "('global', 'casual')_global_1_0\n",
      "('global', 'casual')_global_2_0\n",
      "('global', 'casual')_global_2_1\n",
      "('workingday', 'count')_workingday_0_1_0\n",
      "('workingday', 'count')_workingday_0_2_0\n",
      "('workingday', 'count')_workingday_0_2_1\n",
      "('workingday', 'count')_workingday_1_1_0\n",
      "('workingday', 'count')_workingday_1_2_0\n",
      "('workingday', 'count')_workingday_1_2_1\n",
      "('workingday', 'registered')_workingday_0_1_0\n",
      "('workingday', 'registered')_workingday_0_2_0\n",
      "('workingday', 'registered')_workingday_0_2_1\n",
      "('workingday', 'registered')_workingday_1_1_0\n",
      "('workingday', 'registered')_workingday_1_2_0\n",
      "('workingday', 'registered')_workingday_1_2_1\n",
      "('workingday', 'casual')_workingday_0_1_0\n",
      "('workingday', 'casual')_workingday_0_2_0\n",
      "('workingday', 'casual')_workingday_0_2_1\n",
      "('workingday', 'casual')_workingday_1_1_0\n",
      "('workingday', 'casual')_workingday_1_2_0\n",
      "('workingday', 'casual')_workingday_1_2_1\n",
      "('global', 'count')_global_1_0\n",
      "('global', 'count')_global_2_0\n",
      "('global', 'count')_global_2_1\n",
      "('global', 'registered')_global_1_0\n",
      "('global', 'registered')_global_2_0\n",
      "('global', 'registered')_global_2_1\n",
      "('global', 'casual')_global_1_0\n",
      "('global', 'casual')_global_2_0\n",
      "('global', 'casual')_global_2_1\n",
      "('workingday', 'count')_workingday_0_1_0\n",
      "('workingday', 'count')_workingday_0_2_0\n",
      "('workingday', 'count')_workingday_0_2_1\n",
      "('workingday', 'count')_workingday_1_1_0\n",
      "('workingday', 'count')_workingday_1_2_0\n",
      "('workingday', 'count')_workingday_1_2_1\n",
      "('workingday', 'registered')_workingday_0_1_0\n",
      "('workingday', 'registered')_workingday_0_2_0\n",
      "('workingday', 'registered')_workingday_0_2_1\n",
      "('workingday', 'registered')_workingday_1_1_0\n",
      "('workingday', 'registered')_workingday_1_2_0\n",
      "('workingday', 'registered')_workingday_1_2_1\n",
      "('workingday', 'casual')_workingday_0_1_0\n",
      "('workingday', 'casual')_workingday_0_2_0\n",
      "('workingday', 'casual')_workingday_0_2_1\n",
      "('workingday', 'casual')_workingday_1_1_0\n",
      "('workingday', 'casual')_workingday_1_2_0\n",
      "('workingday', 'casual')_workingday_1_2_1\n",
      "('global', 'count')_global_1_0\n",
      "('global', 'count')_global_2_0\n",
      "('global', 'count')_global_2_1\n",
      "('global', 'count')_global_1_0\n",
      "('global', 'count')_global_2_0\n",
      "('global', 'count')_global_2_1\n"
     ]
    }
   ],
   "source": [
    "for idrun,run in all_datasets_for_modeling.items():\n",
    "    for id_strate_target in run:\n",
    "        print(id_strate_target)"
   ]
  },
  {
   "cell_type": "code",
   "execution_count": null,
   "metadata": {},
   "outputs": [],
   "source": []
  }
 ],
 "metadata": {
  "kernelspec": {
   "display_name": "data",
   "language": "python",
   "name": "data"
  },
  "language_info": {
   "codemirror_mode": {
    "name": "ipython",
    "version": 3
   },
   "file_extension": ".py",
   "mimetype": "text/x-python",
   "name": "python",
   "nbconvert_exporter": "python",
   "pygments_lexer": "ipython3",
   "version": "3.6.8"
  }
 },
 "nbformat": 4,
 "nbformat_minor": 2
}
