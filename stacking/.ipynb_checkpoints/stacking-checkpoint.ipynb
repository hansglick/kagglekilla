{
 "cells": [
  {
   "cell_type": "code",
   "execution_count": 15,
   "metadata": {},
   "outputs": [
    {
     "name": "stdout",
     "output_type": "stream",
     "text": [
      "The autoreload extension is already loaded. To reload it, use:\n",
      "  %reload_ext autoreload\n"
     ]
    }
   ],
   "source": [
    "import dill as pickle\n",
    "import pandas as pd\n",
    "import subprocess\n",
    "import os\n",
    "import sys\n",
    "sys.path.append(\"../fun\")\n",
    "from fun import *\n",
    "%load_ext autoreload\n",
    "%autoreload 2"
   ]
  },
  {
   "cell_type": "code",
   "execution_count": 16,
   "metadata": {},
   "outputs": [],
   "source": [
    "infile = open(\"../model/all_setting_results.pkl\",'rb')\n",
    "all_setting_results = pickle.load(infile)\n",
    "infile.close()"
   ]
  },
  {
   "cell_type": "code",
   "execution_count": 17,
   "metadata": {},
   "outputs": [],
   "source": [
    "infile = open(\"../features/all_datasets_for_modeling.pkl\",'rb')\n",
    "all_datasets_for_modeling = pickle.load(infile)\n",
    "infile.close()"
   ]
  },
  {
   "cell_type": "code",
   "execution_count": 18,
   "metadata": {},
   "outputs": [],
   "source": [
    "infile = open(\"../features/build_train_test_for_model_parameters.pkl\",'rb')\n",
    "build_train_test_for_model_parameters = pickle.load(infile)\n",
    "infile.close()"
   ]
  },
  {
   "cell_type": "markdown",
   "metadata": {},
   "source": [
    "### Which idrun?"
   ]
  },
  {
   "cell_type": "code",
   "execution_count": 20,
   "metadata": {},
   "outputs": [
    {
     "data": {
      "text/plain": [
       "dict_keys(['201908311734'])"
      ]
     },
     "execution_count": 20,
     "metadata": {},
     "output_type": "execute_result"
    }
   ],
   "source": [
    "all_setting_results.keys()"
   ]
  },
  {
   "cell_type": "code",
   "execution_count": 21,
   "metadata": {},
   "outputs": [],
   "source": [
    "idrun = \"201908311734\""
   ]
  },
  {
   "cell_type": "markdown",
   "metadata": {},
   "source": [
    "### Structure run results"
   ]
  },
  {
   "cell_type": "code",
   "execution_count": 22,
   "metadata": {},
   "outputs": [],
   "source": [
    "g = correct_dic_results(idrun,\n",
    "                        build_train_test_for_model_parameters[\"target\"][\"subs\"],\n",
    "                        all_setting_results)\n",
    "\n",
    "list_of_datasets = return_list_of_shared_datasets(g)\n",
    "\n",
    "bigresume,bigpredictions = produce_bigpred_bigresume(list_of_datasets,\n",
    "                                                     all_setting_results,\n",
    "                                                     idrun,\n",
    "                                                     build_train_test_for_model_parameters)"
   ]
  },
  {
   "cell_type": "markdown",
   "metadata": {},
   "source": [
    "### Save"
   ]
  },
  {
   "cell_type": "code",
   "execution_count": 23,
   "metadata": {},
   "outputs": [],
   "source": [
    "files = [f for f in os.listdir('.') if os.path.isfile(f)]"
   ]
  },
  {
   "cell_type": "code",
   "execution_count": 24,
   "metadata": {},
   "outputs": [],
   "source": [
    "# Open or create\n",
    "if \"bigresumedf.pkl\" in files:\n",
    "    infile = open(\"bigresumedf.pkl\",'rb')\n",
    "    bigresumedf = pickle.load(infile)\n",
    "    infile.close()\n",
    "else:\n",
    "    bigresumedf = pd.DataFrame()\n",
    "    \n",
    "bigresumedf=bigresumedf.append(bigresume,ignore_index=True)\n",
    "\n",
    "# Save\n",
    "filename = 'bigresumedf.pkl'\n",
    "outfile = open(filename,'wb')\n",
    "pickle.dump(bigresumedf,outfile)\n",
    "outfile.close()"
   ]
  },
  {
   "cell_type": "code",
   "execution_count": 25,
   "metadata": {},
   "outputs": [],
   "source": [
    "# Open or Create\n",
    "if \"list_of_bigpredictions.pkl\" in files:\n",
    "    infile = open(\"list_of_bigpredictions.pkl\",'rb')\n",
    "    list_of_bigpredictions = pickle.load(infile)\n",
    "    infile.close()\n",
    "else:\n",
    "    list_of_bigpredictions = []\n",
    "\n",
    "list_of_bigpredictions = list_of_bigpredictions + bigpredictions\n",
    "\n",
    "# Save\n",
    "filename = 'list_of_bigpredictions.pkl'\n",
    "outfile = open(filename,'wb')\n",
    "pickle.dump(list_of_bigpredictions,outfile)\n",
    "outfile.close()"
   ]
  },
  {
   "cell_type": "markdown",
   "metadata": {},
   "source": [
    "## Danger, Remove the entry of all_settings_results "
   ]
  },
  {
   "cell_type": "code",
   "execution_count": 26,
   "metadata": {},
   "outputs": [],
   "source": [
    "del all_setting_results[idrun]\n",
    "filename = \"../model/all_setting_results.pkl\"\n",
    "outfile = open(filename,'wb')\n",
    "pickle.dump(all_setting_results,outfile)\n",
    "outfile.close()"
   ]
  }
 ],
 "metadata": {
  "kernelspec": {
   "display_name": "data",
   "language": "python",
   "name": "data"
  },
  "language_info": {
   "codemirror_mode": {
    "name": "ipython",
    "version": 3
   },
   "file_extension": ".py",
   "mimetype": "text/x-python",
   "name": "python",
   "nbconvert_exporter": "python",
   "pygments_lexer": "ipython3",
   "version": "3.6.8"
  }
 },
 "nbformat": 4,
 "nbformat_minor": 2
}
